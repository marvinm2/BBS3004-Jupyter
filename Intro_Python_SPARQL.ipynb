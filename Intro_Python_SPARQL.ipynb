{
 "cells": [
  {
   "cell_type": "markdown",
   "metadata": {},
   "source": [
    "# Introduction to Python and SPARQL Queries in Jupyter Notebook\n"
   ]
  },
  {
   "cell_type": "markdown",
   "metadata": {},
   "source": [
    "\n",
    "## Section 1: Python Basics\n",
    "\n",
    "This section covers basic Python concepts such as variables, data types, lists, dictionaries, loops, and functions before transitioning to SPARQL queries."
   ]
  },
  {
   "cell_type": "code",
   "execution_count": null,
   "metadata": {},
   "outputs": [],
   "source": [
    "# Defining variables and printing values\n",
    "x = 10\n",
    "y = 5\n",
    "sum_xy = x + y\n",
    "print(\"The sum of x and y is:\", sum_xy)"
   ]
  },
  {
   "cell_type": "code",
   "execution_count": null,
   "metadata": {},
   "outputs": [],
   "source": [
    "# Lists and loops\n",
    "numbers = [1, 2, 3, 4, 5]\n",
    "for num in numbers:\n",
    "    print(f\"Number: {num}\")"
   ]
  },
  {
   "cell_type": "code",
   "execution_count": null,
   "metadata": {},
   "outputs": [],
   "source": [
    "# Dictionaries\n",
    "data_dict = {\"name\": \"Alice\", \"age\": 25}\n",
    "print(\"Name:\", data_dict[\"name\"])"
   ]
  },
  {
   "cell_type": "code",
   "execution_count": null,
   "metadata": {},
   "outputs": [],
   "source": [
    "# Function example\n",
    "def greet(name):\n",
    "    return f\"Hello, {name}!\"\n",
    "\n",
    "print(greet(\"Bob\"))"
   ]
  },
  {
   "cell_type": "markdown",
   "metadata": {},
   "source": [
    "## Section 2: SPARQL Queries in Python\n",
    "\n",
    "In this section, we introduce SPARQL and how to query RDF data using Python. \n",
    "We'll use the `SPARQLWrapper` library to send queries to a SPARQL endpoint."
   ]
  },
  {
   "cell_type": "code",
   "execution_count": null,
   "metadata": {},
   "outputs": [],
   "source": [
    "%pip install pandas\n",
    "%pip install SPARQLwrapper"
   ]
  },
  {
   "cell_type": "code",
   "execution_count": 1,
   "metadata": {},
   "outputs": [
    {
     "name": "stdout",
     "output_type": "stream",
     "text": [
      "Requirement already satisfied: pandas in /home/marvin/Documents/VHP4Safety/Services/GUI/ui-design-marvin/.conda/lib/python3.11/site-packages (2.2.3)\n",
      "Requirement already satisfied: numpy>=1.23.2 in /home/marvin/Documents/VHP4Safety/Services/GUI/ui-design-marvin/.conda/lib/python3.11/site-packages (from pandas) (2.2.2)\n",
      "Requirement already satisfied: python-dateutil>=2.8.2 in /home/marvin/Documents/VHP4Safety/Services/GUI/ui-design-marvin/.conda/lib/python3.11/site-packages (from pandas) (2.9.0.post0)\n",
      "Requirement already satisfied: pytz>=2020.1 in /home/marvin/Documents/VHP4Safety/Services/GUI/ui-design-marvin/.conda/lib/python3.11/site-packages (from pandas) (2025.1)\n",
      "Requirement already satisfied: tzdata>=2022.7 in /home/marvin/Documents/VHP4Safety/Services/GUI/ui-design-marvin/.conda/lib/python3.11/site-packages (from pandas) (2025.1)\n",
      "Requirement already satisfied: six>=1.5 in /home/marvin/Documents/VHP4Safety/Services/GUI/ui-design-marvin/.conda/lib/python3.11/site-packages (from python-dateutil>=2.8.2->pandas) (1.17.0)\n",
      "Note: you may need to restart the kernel to use updated packages.\n",
      "Requirement already satisfied: SPARQLwrapper in /home/marvin/Documents/VHP4Safety/Services/GUI/ui-design-marvin/.conda/lib/python3.11/site-packages (2.0.0)\n",
      "Requirement already satisfied: rdflib>=6.1.1 in /home/marvin/Documents/VHP4Safety/Services/GUI/ui-design-marvin/.conda/lib/python3.11/site-packages (from SPARQLwrapper) (7.1.3)\n",
      "Requirement already satisfied: pyparsing<4,>=2.1.0 in /home/marvin/Documents/VHP4Safety/Services/GUI/ui-design-marvin/.conda/lib/python3.11/site-packages (from rdflib>=6.1.1->SPARQLwrapper) (3.2.1)\n",
      "Note: you may need to restart the kernel to use updated packages.\n"
     ]
    }
   ],
   "source": [
    "import pandas as pd\n",
    "from SPARQLWrapper import SPARQLWrapper, JSON"
   ]
  },
  {
   "cell_type": "markdown",
   "metadata": {},
   "source": [
    "### Function: execute_sparql_query\n",
    "\n",
    "This function takes a SPARQL endpoint and a query as input. \n",
    "It then executes the query and returns the results as a Pandas DataFrame.\n",
    "\n",
    "#### Parameters:\n",
    "- `endpoint` (str): The SPARQL endpoint URL.\n",
    "- `query` (str): The SPARQL query to execute.\n",
    "\n",
    "#### Returns:\n",
    "- `pd.DataFrame`: The query results in a structured format."
   ]
  },
  {
   "cell_type": "code",
   "execution_count": 51,
   "metadata": {},
   "outputs": [],
   "source": [
    "def execute_sparql_query(endpoint, query):\n",
    "    # Initialize SPARQLWrapper with the endpoint\n",
    "    sparql = SPARQLWrapper(endpoint)\n",
    "    sparql.setQuery(query)\n",
    "    sparql.setReturnFormat(JSON)\n",
    "    \n",
    "    # Execute the query and retrieve the results\n",
    "    results = sparql.query().convert()\n",
    "    bindings = results[\"results\"][\"bindings\"]\n",
    "    \n",
    "    # Return an empty DataFrame if there are no results\n",
    "    if not bindings:\n",
    "        return pd.DataFrame()\n",
    "    \n",
    "    # Extract column names from the first result entry\n",
    "    columns = bindings[0].keys()\n",
    "    \n",
    "    # Convert results to a list of dictionaries\n",
    "    data = []\n",
    "    for row in bindings:\n",
    "        data.append({col: row[col]['value'] for col in columns})\n",
    "    \n",
    "    # Convert list of dictionaries to a Pandas DataFrame\n",
    "    return pd.DataFrame(data)"
   ]
  },
  {
   "cell_type": "markdown",
   "metadata": {},
   "source": [
    "## Section 3: Example SPARQL Query\n",
    "\n",
    "We'll use the WikiPathways SPARQL endpoint to retrieve some example data. "
   ]
  },
  {
   "cell_type": "markdown",
   "metadata": {},
   "source": [
    "### Query Description:\n",
    "The query retrieves all pathways, their titles, and organisms from WikiPathways."
   ]
  },
  {
   "cell_type": "code",
   "execution_count": 52,
   "metadata": {},
   "outputs": [],
   "source": [
    "# Define the SPARQL endpoint\n",
    "SPARQL_ENDPOINT = \"https://sparql.wikipathways.org/sparql\""
   ]
  },
  {
   "cell_type": "code",
   "execution_count": 53,
   "metadata": {},
   "outputs": [],
   "source": [
    "# Define the SPARQL query\n",
    "SPARQL_QUERY_1 = \"\"\"\n",
    "SELECT DISTINCT ?wpIdentifier ?title ?organismName\n",
    "WHERE {\n",
    "    ?pathway dc:identifier ?wpIdentifier ;\n",
    "             dc:title ?title ;\n",
    "             wp:organismName ?organismName . \n",
    " }\n",
    "\"\"\"\n"
   ]
  },
  {
   "cell_type": "markdown",
   "metadata": {},
   "source": [
    "### Running the Query\n",
    "\n",
    "We now execute the query using our defined function and display the results as a Pandas DataFrame."
   ]
  },
  {
   "cell_type": "code",
   "execution_count": 54,
   "metadata": {},
   "outputs": [],
   "source": [
    "# Execute the SPARQL query and store results in a DataFrame\n",
    "df = execute_sparql_query(SPARQL_ENDPOINT, SPARQL_QUERY_1)"
   ]
  },
  {
   "cell_type": "markdown",
   "metadata": {},
   "source": [
    "### Displaying the Results\n",
    "\n",
    "We now print the first few rows of the DataFrame to inspect the retrieved data."
   ]
  },
  {
   "cell_type": "code",
   "execution_count": null,
   "metadata": {},
   "outputs": [],
   "source": [
    "display(df.head())"
   ]
  },
  {
   "cell_type": "markdown",
   "metadata": {},
   "source": [
    "### Exploring the DataFrame\n",
    "\n",
    "We now inspect the available columns and perform some filtering operations."
   ]
  },
  {
   "cell_type": "code",
   "execution_count": null,
   "metadata": {},
   "outputs": [],
   "source": [
    "# Display column names\n",
    "print(\"Columns in DataFrame:\", df.columns.tolist())\n"
   ]
  },
  {
   "cell_type": "markdown",
   "metadata": {},
   "source": [
    "### Filtering the DataFrame\n",
    "\n",
    "Let's filter the DataFrame to display only results where 'organismName' contains 'Homo sapiens'."
   ]
  },
  {
   "cell_type": "code",
   "execution_count": null,
   "metadata": {},
   "outputs": [],
   "source": [
    "filtered_df = df[df['organismName'].str.contains(\"Homo sapiens\", na=False)]\n",
    "display(filtered_df)"
   ]
  },
  {
   "cell_type": "markdown",
   "metadata": {},
   "source": [
    "### Enhancing the DataFrame with Additional Data\n",
    "\n",
    "We now retrieve extra information about the pathways in our dataset, such as the number of DataNodes in each pathway, using another SPARQL query."
   ]
  },
  {
   "cell_type": "code",
   "execution_count": 58,
   "metadata": {},
   "outputs": [],
   "source": [
    "SPARQL_QUERY_2 = \"\"\"\n",
    "SELECT DISTINCT ?wpIdentifier (COUNT (DISTINCT ?dataNode) as ?n_dataNode)\n",
    "WHERE {\n",
    "    ?pathway dc:identifier ?wpIdentifier .\n",
    "\t?dataNode a wp:DataNode ;\n",
    "              dcterms:isPartOf ?pathway .\n",
    " }\n",
    "\"\"\""
   ]
  },
  {
   "cell_type": "code",
   "execution_count": null,
   "metadata": {},
   "outputs": [],
   "source": [
    "df_extra = execute_sparql_query(SPARQL_ENDPOINT, SPARQL_QUERY_2)\n",
    "\n",
    "df_enriched = df.merge(df_extra, on=\"wpIdentifier\", how=\"left\")\n",
    "\n",
    "display(df_enriched)"
   ]
  },
  {
   "cell_type": "markdown",
   "metadata": {},
   "source": [
    "## Section 4: Data Visualization\n",
    "\n",
    "In this section, we will explore various data visualization techniques using popular Python libraries such as Matplotlib and Seaborn. These visualizations will help us better understand and interpret the data we have retrieved from the SPARQL queries."
   ]
  },
  {
   "cell_type": "code",
   "execution_count": null,
   "metadata": {},
   "outputs": [],
   "source": [
    "# Rank pathways based on n_dataNode (descending order)\n",
    "df_sorted = df_enriched.sort_values(by=\"n_dataNode\", ascending=False)\n",
    "\n",
    "# Display the top pathways\n",
    "print(\"Top-ranked pathways:\")\n",
    "display(df_sorted.head(10))"
   ]
  },
  {
   "cell_type": "code",
   "execution_count": null,
   "metadata": {},
   "outputs": [],
   "source": [
    "# Identify the type of values in the n_dataNode column before re-defining the column\n",
    "print(\"Type of values in n_dataNode column before re-defining:\", df_sorted['n_dataNode'].dtype)\n",
    "\n",
    "# Convert n_dataNode to numeric\n",
    "df_sorted['n_dataNode'] = pd.to_numeric(df_sorted['n_dataNode'], errors='coerce')\n",
    "\n",
    "# Identify the type of values in the n_dataNode column after re-defining the column\n",
    "print(\"Type of values in n_dataNode column after re-defining:\", df_sorted['n_dataNode'].dtype)"
   ]
  },
  {
   "cell_type": "markdown",
   "metadata": {},
   "source": [
    "It appears that the `n_dataNode` column in the table is not being interpreted correctly as numeric values, resulting in a maximum value of 99. However, in Section 3, we observed that multiple pathways have more than 100 DataNodes. To address this, we need to ensure that the `n_dataNode` column is correctly interpreted as numeric values. After converting the column, we will sort the table again to reflect the accurate data."
   ]
  },
  {
   "cell_type": "code",
   "execution_count": null,
   "metadata": {},
   "outputs": [],
   "source": [
    "# Rank pathways based on n_dataNode (descending order)\n",
    "df_sorted = df_sorted.sort_values(by=\"n_dataNode\", ascending=False)\n",
    "\n",
    "# Display the top pathways\n",
    "print(\"Top-ranked pathways:\")\n",
    "display(df_sorted.head(10))"
   ]
  },
  {
   "cell_type": "markdown",
   "metadata": {},
   "source": [
    "### Data visualisation with Matplotlib\n",
    "First, we download and import the `matplotlib` library.\n",
    "\n",
    "In the next cells, we will visualize the data using Matplotlib to gain insights into the pathways with the most DataNodes, and the number of pathways across different species."
   ]
  },
  {
   "cell_type": "code",
   "execution_count": null,
   "metadata": {},
   "outputs": [],
   "source": [
    "%pip install matplotlib"
   ]
  },
  {
   "cell_type": "code",
   "execution_count": 64,
   "metadata": {},
   "outputs": [],
   "source": [
    "import matplotlib.pyplot as plt"
   ]
  },
  {
   "cell_type": "code",
   "execution_count": null,
   "metadata": {},
   "outputs": [],
   "source": [
    "# Distribution plot of pathways per species\n",
    "species_counts = df_sorted[\"organismName\"].value_counts()\n",
    "\n",
    "plt.figure(figsize=(12, 6))\n",
    "species_counts.plot(kind='bar', color='skyblue')\n",
    "plt.xlabel(\"Species\")\n",
    "plt.ylabel(\"Number of Pathways\")\n",
    "plt.title(\"Distribution of Pathways per Species\")\n",
    "plt.show()"
   ]
  },
  {
   "cell_type": "markdown",
   "metadata": {},
   "source": [
    "### Data visualisation with Seaborn\n",
    "\n",
    "In this section, we will use Seaborn to create a box plot that visualizes the distribution of DataNodes across different species. This will help us understand the variability and spread of DataNodes within each species.\n",
    "\n",
    "First, we download and import the `seaborn` library."
   ]
  },
  {
   "cell_type": "code",
   "execution_count": null,
   "metadata": {},
   "outputs": [],
   "source": [
    "%pip install seaborn"
   ]
  },
  {
   "cell_type": "code",
   "execution_count": 67,
   "metadata": {},
   "outputs": [],
   "source": [
    "import seaborn as sns"
   ]
  },
  {
   "cell_type": "code",
   "execution_count": null,
   "metadata": {},
   "outputs": [],
   "source": [
    "# Create a box plot for the distribution of n_dataNode per species\n",
    "plt.figure(figsize=(14, 8))\n",
    "sns.boxplot(x='organismName', y='n_dataNode', data=df_sorted)\n",
    "plt.xticks(rotation=90)\n",
    "plt.xlabel(\"Species\")\n",
    "plt.ylabel(\"Number of Data Nodes\")\n",
    "plt.title(\"Distribution of Data Nodes per Species\")\n",
    "plt.show()"
   ]
  },
  {
   "cell_type": "markdown",
   "metadata": {},
   "source": [
    "## Metadata\n"
   ]
  },
  {
   "cell_type": "code",
   "execution_count": null,
   "metadata": {},
   "outputs": [],
   "source": [
    "import sys\n",
    "import pandas as pd\n",
    "import matplotlib\n",
    "import seaborn as sns\n",
    "from SPARQLWrapper import __version__ as sparqlwrapper_version\n",
    "\n",
    "# Print Python version\n",
    "print(\"Python version:\", sys.version)\n",
    "\n",
    "# Print library versions\n",
    "print(\"Pandas version:\", pd.__version__)\n",
    "print(\"Matplotlib version:\", matplotlib.__version__)\n",
    "print(\"Seaborn version:\", sns.__version__)\n",
    "print(\"SPARQLWrapper version:\", sparqlwrapper_version)\n"
   ]
  }
 ],
 "metadata": {
  "kernelspec": {
   "display_name": "Python 3",
   "language": "python",
   "name": "python3"
  },
  "language_info": {
   "codemirror_mode": {
    "name": "ipython",
    "version": 3
   },
   "file_extension": ".py",
   "mimetype": "text/x-python",
   "name": "python",
   "nbconvert_exporter": "python",
   "pygments_lexer": "ipython3",
   "version": "3.11.11"
  }
 },
 "nbformat": 4,
 "nbformat_minor": 2
}
